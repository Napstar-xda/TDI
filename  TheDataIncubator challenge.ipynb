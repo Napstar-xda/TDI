{
 "cells": [
  {
   "cell_type": "markdown",
   "metadata": {},
   "source": [
    "# Third exercise"
   ]
  },
  {
   "cell_type": "markdown",
   "metadata": {},
   "source": [
    "#### Please update download directory for file\n",
    "Download link for data: https://data.cityofnewyork.us/api/views/k397-673e/rows.csv?accessType=DOWNLOAD"
   ]
  },
  {
   "cell_type": "code",
   "execution_count": 1,
   "metadata": {
    "collapsed": true
   },
   "outputs": [],
   "source": [
    "from os import chdir\n",
    "chdir(\"/home/napstar/Downloads/Documents/TDI/\")"
   ]
  },
  {
   "cell_type": "code",
   "execution_count": 2,
   "metadata": {
    "collapsed": true
   },
   "outputs": [],
   "source": [
    "import pandas as pd\n",
    "import numpy as np\n",
    "\n",
    "from scipy import stats\n",
    "\n",
    "import matplotlib.pyplot as plt\n",
    "%matplotlib inline"
   ]
  },
  {
   "cell_type": "markdown",
   "metadata": {},
   "source": [
    "##### dtype for work location necessary, since few entries were blank"
   ]
  },
  {
   "cell_type": "code",
   "execution_count": 3,
   "metadata": {
    "collapsed": true
   },
   "outputs": [],
   "source": [
    "data = pd.read_csv('Citywide_Payroll_Data__Fiscal_Year_.csv', dtype ={'Work Location Borough':str})"
   ]
  },
  {
   "cell_type": "code",
   "execution_count": 4,
   "metadata": {
    "collapsed": true
   },
   "outputs": [],
   "source": [
    "data['Agency Name'] = data['Agency Name'].str.strip()"
   ]
  },
  {
   "cell_type": "markdown",
   "metadata": {},
   "source": [
    "##### Convert all currency data to float"
   ]
  },
  {
   "cell_type": "code",
   "execution_count": 5,
   "metadata": {
    "collapsed": true
   },
   "outputs": [],
   "source": [
    "data['Base Salary'] = data['Base Salary'].replace('[\\$,]', '', regex=True).astype(float)\n",
    "data['Regular Gross Paid'] = data['Regular Gross Paid'].replace('[\\$,]', '', regex=True).astype(float)\n",
    "data['Total OT Paid'] = data['Total OT Paid'].replace('[\\$,]', '', regex=True).astype(float)\n",
    "data['Total Other Pay'] = data['Total Other Pay'].replace('[\\$,]', '', regex=True).astype(float)"
   ]
  },
  {
   "cell_type": "markdown",
   "metadata": {},
   "source": [
    "##### Get start year only"
   ]
  },
  {
   "cell_type": "code",
   "execution_count": 6,
   "metadata": {
    "collapsed": true
   },
   "outputs": [],
   "source": [
    "data['Agency Start Date'] = data['Agency Start Date'].str[-4:]"
   ]
  },
  {
   "cell_type": "markdown",
   "metadata": {},
   "source": [
    "### Cond1: Active employee"
   ]
  },
  {
   "cell_type": "code",
   "execution_count": 7,
   "metadata": {
    "collapsed": true
   },
   "outputs": [],
   "source": [
    "indxActive = data['Leave Status as of June 30'] == 'ACTIVE'\n",
    "dataActive = data[indxActive]"
   ]
  },
  {
   "cell_type": "code",
   "execution_count": 8,
   "metadata": {
    "collapsed": true
   },
   "outputs": [],
   "source": [
    "# emplCountAll = dataActive.groupby(['Agency Name']).size().reset_index()"
   ]
  },
  {
   "cell_type": "markdown",
   "metadata": {},
   "source": [
    "### Cond2: Annual pay basis employee (tenure based) "
   ]
  },
  {
   "cell_type": "code",
   "execution_count": 9,
   "metadata": {
    "collapsed": true
   },
   "outputs": [],
   "source": [
    "indxTenActive = dataActive['Pay Basis'].str.contains('per Annum')\n",
    "dataTenActive = dataActive[indxTenActive]\n",
    "\n",
    "emplCountTen= dataTenActive.groupby(['Agency Name']).size().reset_index()"
   ]
  },
  {
   "cell_type": "markdown",
   "metadata": {},
   "source": [
    "### Cond3: Records with regular hours made available "
   ]
  },
  {
   "cell_type": "code",
   "execution_count": 10,
   "metadata": {
    "collapsed": true
   },
   "outputs": [],
   "source": [
    "indxWrkHrs = dataTenActive['Regular Hours'] > 0\n",
    "dataTenActiveWrk = dataTenActive[indxWrkHrs]"
   ]
  },
  {
   "cell_type": "markdown",
   "metadata": {},
   "source": [
    "## Calculate experience\n",
    "Based on start date of employee till fiscal year"
   ]
  },
  {
   "cell_type": "code",
   "execution_count": 11,
   "metadata": {
    "collapsed": true
   },
   "outputs": [
    {
     "name": "stderr",
     "output_type": "stream",
     "text": [
      "/home/napstar/.local/lib/python3.5/site-packages/ipykernel_launcher.py:1: SettingWithCopyWarning: \n",
      "A value is trying to be set on a copy of a slice from a DataFrame.\n",
      "Try using .loc[row_indexer,col_indexer] = value instead\n",
      "\n",
      "See the caveats in the documentation: http://pandas.pydata.org/pandas-docs/stable/indexing.html#indexing-view-versus-copy\n",
      "  \"\"\"Entry point for launching an IPython kernel.\n",
      "/home/napstar/.local/lib/python3.5/site-packages/ipykernel_launcher.py:2: SettingWithCopyWarning: \n",
      "A value is trying to be set on a copy of a slice from a DataFrame.\n",
      "Try using .loc[row_indexer,col_indexer] = value instead\n",
      "\n",
      "See the caveats in the documentation: http://pandas.pydata.org/pandas-docs/stable/indexing.html#indexing-view-versus-copy\n",
      "  \n",
      "/home/napstar/.local/lib/python3.5/site-packages/ipykernel_launcher.py:4: SettingWithCopyWarning: \n",
      "A value is trying to be set on a copy of a slice from a DataFrame.\n",
      "Try using .loc[row_indexer,col_indexer] = value instead\n",
      "\n",
      "See the caveats in the documentation: http://pandas.pydata.org/pandas-docs/stable/indexing.html#indexing-view-versus-copy\n",
      "  after removing the cwd from sys.path.\n"
     ]
    }
   ],
   "source": [
    "dataTenActiveWrk['Agency Start Date'] =  dataTenActiveWrk['Agency Start Date'].astype(int)\n",
    "dataTenActiveWrk['Fiscal Year']= dataTenActiveWrk['Fiscal Year'].astype(int)\n",
    "\n",
    "dataTenActiveWrk['Exp'] =  dataTenActiveWrk['Fiscal Year'] - dataTenActiveWrk['Agency Start Date']"
   ]
  },
  {
   "cell_type": "markdown",
   "metadata": {},
   "source": [
    "### Cond 4: Employee with experience > 1 year"
   ]
  },
  {
   "cell_type": "code",
   "execution_count": 12,
   "metadata": {
    "scrolled": true
   },
   "outputs": [],
   "source": [
    "indxExp = dataTenActiveWrk['Exp'] > 1\n",
    "dataTenActiveWrkExp = dataTenActiveWrk[indxExp]"
   ]
  },
  {
   "cell_type": "code",
   "execution_count": 13,
   "metadata": {},
   "outputs": [
    {
     "name": "stdout",
     "output_type": "stream",
     "text": [
      "Data size initial: 2194488\n",
      "Data size after cond1: 1885826\n",
      "Data size after cond2: 1126635\n",
      "Data size after cond3: 673434\n",
      "Data size after cond4: 591419\n"
     ]
    }
   ],
   "source": [
    "print('Data size initial:',len(data))\n",
    "print('Data size after cond1:',len(dataActive))\n",
    "print('Data size after cond2:',len(dataTenActive))\n",
    "print('Data size after cond3:',len(dataTenActiveWrk))\n",
    "print('Data size after cond4:',len(dataTenActiveWrkExp))"
   ]
  },
  {
   "cell_type": "markdown",
   "metadata": {},
   "source": [
    "##### Snapshot of data and salary distribution"
   ]
  },
  {
   "cell_type": "code",
   "execution_count": 14,
   "metadata": {
    "scrolled": true
   },
   "outputs": [
    {
     "data": {
      "text/plain": [
       "array([[<matplotlib.axes._subplots.AxesSubplot object at 0x7f98067760b8>,\n",
       "        <matplotlib.axes._subplots.AxesSubplot object at 0x7f9809ade358>]], dtype=object)"
      ]
     },
     "execution_count": 14,
     "metadata": {},
     "output_type": "execute_result"
    },
    {
     "data": {
      "image/png": "[encoded data removed]",
      "text/plain": [
       "<matplotlib.figure.Figure at 0x7f97fe525940>"
      ]
     },
     "metadata": {},
     "output_type": "display_data"
    }
   ],
   "source": [
    "dataTenActiveWrkExp.groupby(['Agency Name']).agg({'Base Salary':['mean','std']}).hist()"
   ]
  },
  {
   "cell_type": "code",
   "execution_count": 15,
   "metadata": {},
   "outputs": [
    {
     "data": {
      "text/html": [
       "<div>\n",
       "<style>\n",
       "    .dataframe thead tr:only-child th {\n",
       "        text-align: right;\n",
       "    }\n",
       "\n",
       "    .dataframe thead th {\n",
       "        text-align: left;\n",
       "    }\n",
       "\n",
       "    .dataframe tbody tr th {\n",
       "        vertical-align: top;\n",
       "    }\n",
       "</style>\n",
       "<table border=\"1\" class=\"dataframe\">\n",
       "  <thead>\n",
       "    <tr style=\"text-align: right;\">\n",
       "      <th></th>\n",
       "      <th>Fiscal Year</th>\n",
       "      <th>Agency Name</th>\n",
       "      <th>Last Name</th>\n",
       "      <th>First Name</th>\n",
       "      <th>Mid Init</th>\n",
       "      <th>Agency Start Date</th>\n",
       "      <th>Work Location Borough</th>\n",
       "      <th>Title Description</th>\n",
       "      <th>Leave Status as of June 30</th>\n",
       "      <th>Base Salary</th>\n",
       "      <th>Pay Basis</th>\n",
       "      <th>Regular Hours</th>\n",
       "      <th>Regular Gross Paid</th>\n",
       "      <th>OT Hours</th>\n",
       "      <th>Total OT Paid</th>\n",
       "      <th>Total Other Pay</th>\n",
       "      <th>Exp</th>\n",
       "    </tr>\n",
       "  </thead>\n",
       "  <tbody>\n",
       "    <tr>\n",
       "      <th>0</th>\n",
       "      <td>2016</td>\n",
       "      <td>DISTRICT ATTORNEY-MANHATTAN</td>\n",
       "      <td>ABA'AHMID</td>\n",
       "      <td>RAHASHEEM</td>\n",
       "      <td>E</td>\n",
       "      <td>2003</td>\n",
       "      <td>MANHATTAN</td>\n",
       "      <td>COMMUNITY ASSOCIATE                           ...</td>\n",
       "      <td>ACTIVE</td>\n",
       "      <td>47678.0</td>\n",
       "      <td>per Annum</td>\n",
       "      <td>1830.0</td>\n",
       "      <td>47166.03</td>\n",
       "      <td>2.25</td>\n",
       "      <td>57.28</td>\n",
       "      <td>0.0</td>\n",
       "      <td>13</td>\n",
       "    </tr>\n",
       "    <tr>\n",
       "      <th>1</th>\n",
       "      <td>2016</td>\n",
       "      <td>DISTRICT ATTORNEY-MANHATTAN</td>\n",
       "      <td>ABENSUR</td>\n",
       "      <td>MARGARET</td>\n",
       "      <td>NaN</td>\n",
       "      <td>1995</td>\n",
       "      <td>MANHATTAN</td>\n",
       "      <td>ADMINISTRATIVE ACCOUNTANT                     ...</td>\n",
       "      <td>ACTIVE</td>\n",
       "      <td>119959.0</td>\n",
       "      <td>per Annum</td>\n",
       "      <td>1831.0</td>\n",
       "      <td>119042.50</td>\n",
       "      <td>0.00</td>\n",
       "      <td>0.00</td>\n",
       "      <td>0.0</td>\n",
       "      <td>21</td>\n",
       "    </tr>\n",
       "    <tr>\n",
       "      <th>3</th>\n",
       "      <td>2016</td>\n",
       "      <td>DISTRICT ATTORNEY-MANHATTAN</td>\n",
       "      <td>ABRAHAM</td>\n",
       "      <td>JONATHAN</td>\n",
       "      <td>J</td>\n",
       "      <td>2014</td>\n",
       "      <td>MANHATTAN</td>\n",
       "      <td>COMPUTER SYSTEMS MANAGER                      ...</td>\n",
       "      <td>ACTIVE</td>\n",
       "      <td>116000.0</td>\n",
       "      <td>per Annum</td>\n",
       "      <td>1831.0</td>\n",
       "      <td>115104.57</td>\n",
       "      <td>0.00</td>\n",
       "      <td>0.00</td>\n",
       "      <td>0.0</td>\n",
       "      <td>2</td>\n",
       "    </tr>\n",
       "    <tr>\n",
       "      <th>5</th>\n",
       "      <td>2016</td>\n",
       "      <td>DISTRICT ATTORNEY-MANHATTAN</td>\n",
       "      <td>ABREU</td>\n",
       "      <td>JENNIFER</td>\n",
       "      <td>NaN</td>\n",
       "      <td>2012</td>\n",
       "      <td>MANHATTAN</td>\n",
       "      <td>ASSISTANT DISTRICT ATTORNEY                   ...</td>\n",
       "      <td>ACTIVE</td>\n",
       "      <td>71500.0</td>\n",
       "      <td>per Annum</td>\n",
       "      <td>1831.0</td>\n",
       "      <td>71967.34</td>\n",
       "      <td>0.00</td>\n",
       "      <td>0.00</td>\n",
       "      <td>0.0</td>\n",
       "      <td>4</td>\n",
       "    </tr>\n",
       "    <tr>\n",
       "      <th>6</th>\n",
       "      <td>2016</td>\n",
       "      <td>DISTRICT ATTORNEY-MANHATTAN</td>\n",
       "      <td>ABREU</td>\n",
       "      <td>JUAN</td>\n",
       "      <td>D</td>\n",
       "      <td>2007</td>\n",
       "      <td>MANHATTAN</td>\n",
       "      <td>ASSISTANT DISTRICT ATTORNEY                   ...</td>\n",
       "      <td>ACTIVE</td>\n",
       "      <td>88000.0</td>\n",
       "      <td>per Annum</td>\n",
       "      <td>1831.0</td>\n",
       "      <td>87614.01</td>\n",
       "      <td>0.00</td>\n",
       "      <td>0.00</td>\n",
       "      <td>750.0</td>\n",
       "      <td>9</td>\n",
       "    </tr>\n",
       "  </tbody>\n",
       "</table>\n",
       "</div>"
      ],
      "text/plain": [
       "   Fiscal Year                  Agency Name  Last Name First Name Mid Init  \\\n",
       "0         2016  DISTRICT ATTORNEY-MANHATTAN  ABA'AHMID  RAHASHEEM        E   \n",
       "1         2016  DISTRICT ATTORNEY-MANHATTAN    ABENSUR   MARGARET      NaN   \n",
       "3         2016  DISTRICT ATTORNEY-MANHATTAN    ABRAHAM   JONATHAN        J   \n",
       "5         2016  DISTRICT ATTORNEY-MANHATTAN      ABREU   JENNIFER      NaN   \n",
       "6         2016  DISTRICT ATTORNEY-MANHATTAN      ABREU       JUAN        D   \n",
       "\n",
       "   Agency Start Date Work Location Borough  \\\n",
       "0               2003         MANHATTAN       \n",
       "1               1995         MANHATTAN       \n",
       "3               2014         MANHATTAN       \n",
       "5               2012         MANHATTAN       \n",
       "6               2007         MANHATTAN       \n",
       "\n",
       "                                   Title Description  \\\n",
       "0  COMMUNITY ASSOCIATE                           ...   \n",
       "1  ADMINISTRATIVE ACCOUNTANT                     ...   \n",
       "3  COMPUTER SYSTEMS MANAGER                      ...   \n",
       "5  ASSISTANT DISTRICT ATTORNEY                   ...   \n",
       "6  ASSISTANT DISTRICT ATTORNEY                   ...   \n",
       "\n",
       "  Leave Status as of June 30  Base Salary   Pay Basis  Regular Hours  \\\n",
       "0                     ACTIVE      47678.0   per Annum         1830.0   \n",
       "1                     ACTIVE     119959.0   per Annum         1831.0   \n",
       "3                     ACTIVE     116000.0   per Annum         1831.0   \n",
       "5                     ACTIVE      71500.0   per Annum         1831.0   \n",
       "6                     ACTIVE      88000.0   per Annum         1831.0   \n",
       "\n",
       "   Regular Gross Paid  OT Hours  Total OT Paid  Total Other Pay  Exp  \n",
       "0            47166.03      2.25          57.28              0.0   13  \n",
       "1           119042.50      0.00           0.00              0.0   21  \n",
       "3           115104.57      0.00           0.00              0.0    2  \n",
       "5            71967.34      0.00           0.00              0.0    4  \n",
       "6            87614.01      0.00           0.00            750.0    9  "
      ]
     },
     "execution_count": 15,
     "metadata": {},
     "output_type": "execute_result"
    }
   ],
   "source": [
    "dataTenActiveWrkExp.head()"
   ]
  },
  {
   "cell_type": "markdown",
   "metadata": {},
   "source": [
    "## Calculate typical work hours for job title in every agency\n",
    "\n",
    "##### Identify median of regular hours for a given job title in each agency"
   ]
  },
  {
   "cell_type": "code",
   "execution_count": 16,
   "metadata": {
    "collapsed": true,
    "scrolled": true
   },
   "outputs": [],
   "source": [
    "workHrsGroup = dataTenActiveWrkExp.groupby(['Agency Name','Title Description'])['Regular Hours'].median().reset_index()\n",
    "workHrsGroup = workHrsGroup.rename(index=str,columns={'Regular Hours': 'Typical hours'})"
   ]
  },
  {
   "cell_type": "code",
   "execution_count": 17,
   "metadata": {},
   "outputs": [
    {
     "data": {
      "text/html": [
       "<div>\n",
       "<style>\n",
       "    .dataframe thead tr:only-child th {\n",
       "        text-align: right;\n",
       "    }\n",
       "\n",
       "    .dataframe thead th {\n",
       "        text-align: left;\n",
       "    }\n",
       "\n",
       "    .dataframe tbody tr th {\n",
       "        vertical-align: top;\n",
       "    }\n",
       "</style>\n",
       "<table border=\"1\" class=\"dataframe\">\n",
       "  <thead>\n",
       "    <tr style=\"text-align: right;\">\n",
       "      <th></th>\n",
       "      <th>Agency Name</th>\n",
       "      <th>Title Description</th>\n",
       "      <th>Typical hours</th>\n",
       "    </tr>\n",
       "  </thead>\n",
       "  <tbody>\n",
       "    <tr>\n",
       "      <th>0</th>\n",
       "      <td>ADMIN FOR CHILDREN'S SVCS</td>\n",
       "      <td>*ATTORNEY AT LAW                              ...</td>\n",
       "      <td>1825.00</td>\n",
       "    </tr>\n",
       "    <tr>\n",
       "      <th>1</th>\n",
       "      <td>ADMIN FOR CHILDREN'S SVCS</td>\n",
       "      <td>*CERTIFIED APPLICATIONS DEVELOPER             ...</td>\n",
       "      <td>1825.00</td>\n",
       "    </tr>\n",
       "    <tr>\n",
       "      <th>2</th>\n",
       "      <td>ADMIN FOR CHILDREN'S SVCS</td>\n",
       "      <td>*CERTIFIED DATABASE ADMINISTRATOR             ...</td>\n",
       "      <td>1825.00</td>\n",
       "    </tr>\n",
       "    <tr>\n",
       "      <th>3</th>\n",
       "      <td>ADMIN FOR CHILDREN'S SVCS</td>\n",
       "      <td>*CERTIFIED LOCAL AREA NETWORK ADMINISTRATOR   ...</td>\n",
       "      <td>1825.00</td>\n",
       "    </tr>\n",
       "    <tr>\n",
       "      <th>4</th>\n",
       "      <td>ADMIN FOR CHILDREN'S SVCS</td>\n",
       "      <td>*COOK                                         ...</td>\n",
       "      <td>2085.72</td>\n",
       "    </tr>\n",
       "  </tbody>\n",
       "</table>\n",
       "</div>"
      ],
      "text/plain": [
       "                 Agency Name  \\\n",
       "0  ADMIN FOR CHILDREN'S SVCS   \n",
       "1  ADMIN FOR CHILDREN'S SVCS   \n",
       "2  ADMIN FOR CHILDREN'S SVCS   \n",
       "3  ADMIN FOR CHILDREN'S SVCS   \n",
       "4  ADMIN FOR CHILDREN'S SVCS   \n",
       "\n",
       "                                   Title Description  Typical hours  \n",
       "0  *ATTORNEY AT LAW                              ...        1825.00  \n",
       "1  *CERTIFIED APPLICATIONS DEVELOPER             ...        1825.00  \n",
       "2  *CERTIFIED DATABASE ADMINISTRATOR             ...        1825.00  \n",
       "3  *CERTIFIED LOCAL AREA NETWORK ADMINISTRATOR   ...        1825.00  \n",
       "4  *COOK                                         ...        2085.72  "
      ]
     },
     "execution_count": 17,
     "metadata": {},
     "output_type": "execute_result"
    }
   ],
   "source": [
    "workHrsGroup.head()"
   ]
  },
  {
   "cell_type": "markdown",
   "metadata": {},
   "source": [
    "##### Merge values with complete data"
   ]
  },
  {
   "cell_type": "code",
   "execution_count": 18,
   "metadata": {
    "collapsed": true
   },
   "outputs": [],
   "source": [
    "dataTenActiveWrkExpwthHrs = pd.merge(dataTenActiveWrkExp,workHrsGroup,left_on=['Agency Name','Title Description'],right_on=['Agency Name','Title Description'],how='left')"
   ]
  },
  {
   "cell_type": "markdown",
   "metadata": {},
   "source": [
    "##### Add defaulter for working hours in data"
   ]
  },
  {
   "cell_type": "code",
   "execution_count": 19,
   "metadata": {
    "collapsed": true
   },
   "outputs": [],
   "source": [
    "dataTenActiveWrkExpwthHrs['Work hours diff from expected'] = dataTenActiveWrkExpwthHrs['Regular Hours'] - dataTenActiveWrkExpwthHrs['Typical hours']\n",
    "dataTenActiveWrkExpwthHrs['Relative Work hours diff from expected'] = (dataTenActiveWrkExpwthHrs['Regular Hours']  / dataTenActiveWrkExpwthHrs['Typical hours'])*100"
   ]
  },
  {
   "cell_type": "markdown",
   "metadata": {},
   "source": [
    "## Calculate maximum base salary in every agency\n",
    "\n",
    "##### To be used for comparing employee's tendency to take leave based on salary scale"
   ]
  },
  {
   "cell_type": "code",
   "execution_count": 20,
   "metadata": {
    "collapsed": true,
    "scrolled": true
   },
   "outputs": [],
   "source": [
    "salGroup = dataTenActiveWrkExpwthHrs.groupby(['Agency Name'])['Base Salary'].max().reset_index()\n",
    "salGroup = salGroup.rename(index=str,columns={'Base Salary': 'Max Salary by Agency'})"
   ]
  },
  {
   "cell_type": "markdown",
   "metadata": {},
   "source": [
    "##### Merge data with complete data"
   ]
  },
  {
   "cell_type": "code",
   "execution_count": 21,
   "metadata": {
    "collapsed": true
   },
   "outputs": [],
   "source": [
    "dataTenActiveWrkExpwthHrsMaxSal = pd.merge(dataTenActiveWrkExpwthHrs,salGroup,left_on=['Agency Name'],right_on=['Agency Name'],how='left')"
   ]
  },
  {
   "cell_type": "markdown",
   "metadata": {},
   "source": [
    "##### Add relative salary scale for employees"
   ]
  },
  {
   "cell_type": "code",
   "execution_count": 22,
   "metadata": {
    "collapsed": true
   },
   "outputs": [],
   "source": [
    "dataTenActiveWrkExpwthHrsMaxSal['Relative salary in agency %'] = (dataTenActiveWrkExpwthHrsMaxSal['Base Salary']  / dataTenActiveWrkExpwthHrsMaxSal['Max Salary by Agency'])*100\n",
    "dataTenActiveWrkExpwthHrsMaxSal['Salary scale'] = np.ceil(dataTenActiveWrkExpwthHrsMaxSal['Relative salary in agency %']/10)*10"
   ]
  },
  {
   "cell_type": "markdown",
   "metadata": {},
   "source": [
    "## Analyze individual employee data"
   ]
  },
  {
   "cell_type": "code",
   "execution_count": 23,
   "metadata": {
    "collapsed": true
   },
   "outputs": [],
   "source": [
    "emplWthLeaves = dataTenActiveWrkExpwthHrsMaxSal[dataTenActiveWrkExpwthHrsMaxSal['Relative Work hours diff from expected']<100]"
   ]
  },
  {
   "cell_type": "code",
   "execution_count": 24,
   "metadata": {},
   "outputs": [
    {
     "name": "stdout",
     "output_type": "stream",
     "text": [
      "Total employees, with experience > 1year, not on leave and having working hours data reported: 591419\n",
      "Employees who took leave, having experience > 1year, not on leave and having working hours data reported: 120923\n"
     ]
    }
   ],
   "source": [
    "print('Total employees, with experience > 1year, not on leave and having working hours data reported:',len(dataTenActiveWrkExpwthHrs))\n",
    "print('Employees who took leave, having experience > 1year, not on leave and having working hours data reported:',len(emplWthLeaves))"
   ]
  },
  {
   "cell_type": "code",
   "execution_count": 25,
   "metadata": {},
   "outputs": [
    {
     "data": {
      "text/plain": [
       "<matplotlib.axes._subplots.AxesSubplot at 0x7f98039dc0b8>"
      ]
     },
     "execution_count": 25,
     "metadata": {},
     "output_type": "execute_result"
    },
    {
     "data": {
      "image/png": "[encoded data removed]",
      "text/plain": [
       "<matplotlib.figure.Figure at 0x7f98039ea828>"
      ]
     },
     "metadata": {},
     "output_type": "display_data"
    }
   ],
   "source": [
    "# Plot\n",
    "leavesSeries = pd.Series([len(dataTenActiveWrkExpwthHrsMaxSal),len(emplWthLeaves)],index=['All employee','Employees who took leave'],name='')\n",
    "leavesSeries.plot.pie(figsize=(6, 6), autopct='%.2f')"
   ]
  },
  {
   "cell_type": "markdown",
   "metadata": {},
   "source": [
    "## Check relation between experience and leaves"
   ]
  },
  {
   "cell_type": "code",
   "execution_count": 26,
   "metadata": {
    "collapsed": true
   },
   "outputs": [],
   "source": [
    "emplLeaveGrp = emplWthLeaves.groupby(['Agency Name','Last Name','First Name','Mid Init'])\n",
    "dataleaveExp = emplLeaveGrp.agg({'Base Salary':'max','OT Hours':'max','Total OT Paid':'max','Exp':'max','Relative Work hours diff from expected':'min'}).reset_index()\n",
    "\n",
    "dataleaveExp = dataleaveExp.sort_values(['Exp'],ascending=[True])"
   ]
  },
  {
   "cell_type": "markdown",
   "metadata": {},
   "source": [
    "#### Plot data for % of work hours to experience"
   ]
  },
  {
   "cell_type": "code",
   "execution_count": 27,
   "metadata": {
    "scrolled": true
   },
   "outputs": [
    {
     "data": {
      "text/plain": [
       "<matplotlib.axes._subplots.AxesSubplot at 0x7f9802239d68>"
      ]
     },
     "execution_count": 27,
     "metadata": {},
     "output_type": "execute_result"
    },
    {
     "data": {
      "image/png": "[encoded data removed]",
      "text/plain": [
       "<matplotlib.figure.Figure at 0x7f97ffc11828>"
      ]
     },
     "metadata": {},
     "output_type": "display_data"
    }
   ],
   "source": [
    "dataleaveforPlot = dataleaveExp.groupby(['Exp'])['Relative Work hours diff from expected'].agg(['min']).reset_index()\n",
    "dataleaveforPlot = dataleaveforPlot.rename(index=str,columns={'min':'% of work hours from expected'})\n",
    "dataleaveforPlot.plot(x='Exp')"
   ]
  },
  {
   "cell_type": "markdown",
   "metadata": {},
   "source": [
    "#### Correlation statistics"
   ]
  },
  {
   "cell_type": "code",
   "execution_count": 28,
   "metadata": {
    "scrolled": true
   },
   "outputs": [
    {
     "name": "stdout",
     "output_type": "stream",
     "text": [
      "Regression statistics for relation between experience and % of work hours, Slope: 2.0090382396 r^2: 0.743338134396 with p-val: 4.42070978352e-16\n"
     ]
    }
   ],
   "source": [
    "m,c,r,pval,err = stats.linregress(dataleaveforPlot['Exp'],dataleaveforPlot['% of work hours from expected'])\n",
    "print('Regression statistics for relation between experience and % of work hours, Slope:',m,'r^2:',r*r, 'with p-val:',pval)"
   ]
  },
  {
   "cell_type": "markdown",
   "metadata": {},
   "source": [
    "## Check relation between experience and Overtime hours"
   ]
  },
  {
   "cell_type": "markdown",
   "metadata": {},
   "source": [
    "#### Plot data for overtime hours to experience"
   ]
  },
  {
   "cell_type": "code",
   "execution_count": 29,
   "metadata": {
    "scrolled": true
   },
   "outputs": [
    {
     "data": {
      "text/plain": [
       "<matplotlib.axes._subplots.AxesSubplot at 0x7f980223bfd0>"
      ]
     },
     "execution_count": 29,
     "metadata": {},
     "output_type": "execute_result"
    },
    {
     "data": {
      "image/png": "[encoded data removed]",
      "text/plain": [
       "<matplotlib.figure.Figure at 0x7f9804708240>"
      ]
     },
     "metadata": {},
     "output_type": "display_data"
    }
   ],
   "source": [
    "dataleaveforPlot = dataleaveExp.groupby(['Exp'])['OT Hours'].agg(['max']).reset_index()\n",
    "dataleaveforPlot = dataleaveforPlot.rename(index=str,columns={'max':'Overtime work hours'})\n",
    "dataleaveforPlot.plot(x='Exp')"
   ]
  },
  {
   "cell_type": "markdown",
   "metadata": {},
   "source": [
    "#### Correlation statistics"
   ]
  },
  {
   "cell_type": "code",
   "execution_count": 30,
   "metadata": {
    "scrolled": true
   },
   "outputs": [
    {
     "name": "stdout",
     "output_type": "stream",
     "text": [
      "Regression statistics for relation between experience and overtime work hours, Slope: -33.3072599356 r^2: 0.694058510588 with p-val: 3.37589907702e-14\n"
     ]
    }
   ],
   "source": [
    "m,c,r,pval,err = stats.linregress(dataleaveforPlot['Exp'],dataleaveforPlot['Overtime work hours'])\n",
    "print('Regression statistics for relation between experience and overtime work hours, Slope:',m,'r^2:',r*r, 'with p-val:',pval)"
   ]
  },
  {
   "cell_type": "markdown",
   "metadata": {},
   "source": [
    "## Check relation between salary scale and leaves"
   ]
  },
  {
   "cell_type": "code",
   "execution_count": 31,
   "metadata": {
    "collapsed": true
   },
   "outputs": [],
   "source": [
    "emplLeaveGrp = emplWthLeaves.groupby(['Agency Name','Last Name','First Name','Mid Init'])\n",
    "dataleaveSal = emplLeaveGrp.agg({'Base Salary':'max','Max Salary by Agency':'max','Salary scale':'max','OT Hours':'max','Total OT Paid':'max','Exp':'max','Relative Work hours diff from expected':'min'}).reset_index()\n",
    "\n",
    "dataleaveSal = dataleaveSal.sort_values(['Salary scale'],ascending=[True])"
   ]
  },
  {
   "cell_type": "code",
   "execution_count": 32,
   "metadata": {},
   "outputs": [
    {
     "data": {
      "text/html": [
       "<div>\n",
       "<style>\n",
       "    .dataframe thead tr:only-child th {\n",
       "        text-align: right;\n",
       "    }\n",
       "\n",
       "    .dataframe thead th {\n",
       "        text-align: left;\n",
       "    }\n",
       "\n",
       "    .dataframe tbody tr th {\n",
       "        vertical-align: top;\n",
       "    }\n",
       "</style>\n",
       "<table border=\"1\" class=\"dataframe\">\n",
       "  <thead>\n",
       "    <tr style=\"text-align: right;\">\n",
       "      <th></th>\n",
       "      <th>Agency Name</th>\n",
       "      <th>Last Name</th>\n",
       "      <th>First Name</th>\n",
       "      <th>Mid Init</th>\n",
       "      <th>Max Salary by Agency</th>\n",
       "      <th>Exp</th>\n",
       "      <th>Salary scale</th>\n",
       "      <th>Base Salary</th>\n",
       "      <th>Relative Work hours diff from expected</th>\n",
       "      <th>OT Hours</th>\n",
       "      <th>Total OT Paid</th>\n",
       "    </tr>\n",
       "  </thead>\n",
       "  <tbody>\n",
       "    <tr>\n",
       "      <th>25952</th>\n",
       "      <td>OFFICE OF THE COMPTROLLER</td>\n",
       "      <td>BERKOWITZ</td>\n",
       "      <td>CRAIG</td>\n",
       "      <td>B</td>\n",
       "      <td>350000.0</td>\n",
       "      <td>9</td>\n",
       "      <td>10.0</td>\n",
       "      <td>29897.0</td>\n",
       "      <td>99.616438</td>\n",
       "      <td>0.00</td>\n",
       "      <td>0.00</td>\n",
       "    </tr>\n",
       "    <tr>\n",
       "      <th>36836</th>\n",
       "      <td>POLICE DEPARTMENT</td>\n",
       "      <td>HOSSAIN</td>\n",
       "      <td>MD</td>\n",
       "      <td>J</td>\n",
       "      <td>226366.0</td>\n",
       "      <td>3</td>\n",
       "      <td>20.0</td>\n",
       "      <td>32426.0</td>\n",
       "      <td>91.420619</td>\n",
       "      <td>677.50</td>\n",
       "      <td>15432.07</td>\n",
       "    </tr>\n",
       "    <tr>\n",
       "      <th>36835</th>\n",
       "      <td>POLICE DEPARTMENT</td>\n",
       "      <td>HOSSAIN</td>\n",
       "      <td>MD</td>\n",
       "      <td>A</td>\n",
       "      <td>226366.0</td>\n",
       "      <td>4</td>\n",
       "      <td>20.0</td>\n",
       "      <td>37713.0</td>\n",
       "      <td>91.420619</td>\n",
       "      <td>647.25</td>\n",
       "      <td>18365.68</td>\n",
       "    </tr>\n",
       "    <tr>\n",
       "      <th>8024</th>\n",
       "      <td>DEPARTMENT OF PROBATION</td>\n",
       "      <td>OLIVACCE</td>\n",
       "      <td>BRENDA</td>\n",
       "      <td>C</td>\n",
       "      <td>212044.0</td>\n",
       "      <td>21</td>\n",
       "      <td>20.0</td>\n",
       "      <td>33824.0</td>\n",
       "      <td>98.319452</td>\n",
       "      <td>0.00</td>\n",
       "      <td>0.00</td>\n",
       "    </tr>\n",
       "    <tr>\n",
       "      <th>36833</th>\n",
       "      <td>POLICE DEPARTMENT</td>\n",
       "      <td>HOSIER</td>\n",
       "      <td>SHANA</td>\n",
       "      <td>C</td>\n",
       "      <td>226366.0</td>\n",
       "      <td>7</td>\n",
       "      <td>20.0</td>\n",
       "      <td>42136.0</td>\n",
       "      <td>99.610028</td>\n",
       "      <td>363.25</td>\n",
       "      <td>10577.13</td>\n",
       "    </tr>\n",
       "  </tbody>\n",
       "</table>\n",
       "</div>"
      ],
      "text/plain": [
       "                     Agency Name  Last Name First Name Mid Init  \\\n",
       "25952  OFFICE OF THE COMPTROLLER  BERKOWITZ      CRAIG        B   \n",
       "36836          POLICE DEPARTMENT    HOSSAIN         MD        J   \n",
       "36835          POLICE DEPARTMENT    HOSSAIN         MD        A   \n",
       "8024     DEPARTMENT OF PROBATION   OLIVACCE     BRENDA        C   \n",
       "36833          POLICE DEPARTMENT     HOSIER      SHANA        C   \n",
       "\n",
       "       Max Salary by Agency  Exp  Salary scale  Base Salary  \\\n",
       "25952              350000.0    9          10.0      29897.0   \n",
       "36836              226366.0    3          20.0      32426.0   \n",
       "36835              226366.0    4          20.0      37713.0   \n",
       "8024               212044.0   21          20.0      33824.0   \n",
       "36833              226366.0    7          20.0      42136.0   \n",
       "\n",
       "       Relative Work hours diff from expected  OT Hours  Total OT Paid  \n",
       "25952                               99.616438      0.00           0.00  \n",
       "36836                               91.420619    677.50       15432.07  \n",
       "36835                               91.420619    647.25       18365.68  \n",
       "8024                                98.319452      0.00           0.00  \n",
       "36833                               99.610028    363.25       10577.13  "
      ]
     },
     "execution_count": 32,
     "metadata": {},
     "output_type": "execute_result"
    }
   ],
   "source": [
    "dataleaveSal.head()"
   ]
  },
  {
   "cell_type": "markdown",
   "metadata": {},
   "source": [
    "#### Plot data for % of work hours to salary scale"
   ]
  },
  {
   "cell_type": "code",
   "execution_count": 33,
   "metadata": {},
   "outputs": [
    {
     "data": {
      "text/plain": [
       "<matplotlib.axes._subplots.AxesSubplot at 0x7f985145f320>"
      ]
     },
     "execution_count": 33,
     "metadata": {},
     "output_type": "execute_result"
    },
    {
     "data": {
      "image/png": "[encoded data removed]",
      "text/plain": [
       "<matplotlib.figure.Figure at 0x7f97ffc11a20>"
      ]
     },
     "metadata": {},
     "output_type": "display_data"
    }
   ],
   "source": [
    "dataleaveSalforPlot = dataleaveSal.groupby(['Salary scale'])['Relative Work hours diff from expected'].agg(['min']).reset_index()\n",
    "dataleaveSalforPlot = dataleaveSalforPlot.rename(index=str,columns={'min':'% of work hours from expected'})\n",
    "dataleaveSalforPlot.plot(x='Salary scale')"
   ]
  },
  {
   "cell_type": "code",
   "execution_count": 34,
   "metadata": {
    "scrolled": true
   },
   "outputs": [
    {
     "data": {
      "text/html": [
       "<div>\n",
       "<style>\n",
       "    .dataframe thead tr:only-child th {\n",
       "        text-align: right;\n",
       "    }\n",
       "\n",
       "    .dataframe thead th {\n",
       "        text-align: left;\n",
       "    }\n",
       "\n",
       "    .dataframe tbody tr th {\n",
       "        vertical-align: top;\n",
       "    }\n",
       "</style>\n",
       "<table border=\"1\" class=\"dataframe\">\n",
       "  <thead>\n",
       "    <tr style=\"text-align: right;\">\n",
       "      <th></th>\n",
       "      <th>Salary scale</th>\n",
       "      <th>% of work hours from expected</th>\n",
       "    </tr>\n",
       "  </thead>\n",
       "  <tbody>\n",
       "    <tr>\n",
       "      <th>0</th>\n",
       "      <td>10.0</td>\n",
       "      <td>99.616438</td>\n",
       "    </tr>\n",
       "    <tr>\n",
       "      <th>1</th>\n",
       "      <td>20.0</td>\n",
       "      <td>0.535890</td>\n",
       "    </tr>\n",
       "    <tr>\n",
       "      <th>2</th>\n",
       "      <td>30.0</td>\n",
       "      <td>0.821918</td>\n",
       "    </tr>\n",
       "    <tr>\n",
       "      <th>3</th>\n",
       "      <td>40.0</td>\n",
       "      <td>0.445682</td>\n",
       "    </tr>\n",
       "    <tr>\n",
       "      <th>4</th>\n",
       "      <td>50.0</td>\n",
       "      <td>7.013699</td>\n",
       "    </tr>\n",
       "    <tr>\n",
       "      <th>5</th>\n",
       "      <td>60.0</td>\n",
       "      <td>9.314769</td>\n",
       "    </tr>\n",
       "    <tr>\n",
       "      <th>6</th>\n",
       "      <td>70.0</td>\n",
       "      <td>8.493151</td>\n",
       "    </tr>\n",
       "    <tr>\n",
       "      <th>7</th>\n",
       "      <td>80.0</td>\n",
       "      <td>27.397260</td>\n",
       "    </tr>\n",
       "    <tr>\n",
       "      <th>8</th>\n",
       "      <td>90.0</td>\n",
       "      <td>5.534247</td>\n",
       "    </tr>\n",
       "    <tr>\n",
       "      <th>9</th>\n",
       "      <td>100.0</td>\n",
       "      <td>8.657534</td>\n",
       "    </tr>\n",
       "  </tbody>\n",
       "</table>\n",
       "</div>"
      ],
      "text/plain": [
       "   Salary scale  % of work hours from expected\n",
       "0          10.0                      99.616438\n",
       "1          20.0                       0.535890\n",
       "2          30.0                       0.821918\n",
       "3          40.0                       0.445682\n",
       "4          50.0                       7.013699\n",
       "5          60.0                       9.314769\n",
       "6          70.0                       8.493151\n",
       "7          80.0                      27.397260\n",
       "8          90.0                       5.534247\n",
       "9         100.0                       8.657534"
      ]
     },
     "execution_count": 34,
     "metadata": {},
     "output_type": "execute_result"
    }
   ],
   "source": [
    "dataleaveSalforPlot"
   ]
  },
  {
   "cell_type": "markdown",
   "metadata": {},
   "source": [
    "## Check relation between salary scale and overtime hours"
   ]
  },
  {
   "cell_type": "markdown",
   "metadata": {},
   "source": [
    "#### Plot data for % of work hours to experience"
   ]
  },
  {
   "cell_type": "code",
   "execution_count": 35,
   "metadata": {
    "scrolled": true
   },
   "outputs": [
    {
     "data": {
      "text/plain": [
       "<matplotlib.axes._subplots.AxesSubplot at 0x7f9800b11390>"
      ]
     },
     "execution_count": 35,
     "metadata": {},
     "output_type": "execute_result"
    },
    {
     "data": {
      "image/png": "[encoded data removed]",
      "text/plain": [
       "<matplotlib.figure.Figure at 0x7f9808a24cf8>"
      ]
     },
     "metadata": {},
     "output_type": "display_data"
    }
   ],
   "source": [
    "dataleaveSalforPlot = dataleaveSal.groupby(['Salary scale'])['OT Hours'].agg(['max']).reset_index()\n",
    "dataleaveSalforPlot = dataleaveSalforPlot.rename(index=str,columns={'max':'Overtime work hours'})\n",
    "dataleaveSalforPlot.plot(x='Salary scale')"
   ]
  }
 ],
 "metadata": {
  "kernelspec": {
   "display_name": "Python 3",
   "language": "python",
   "name": "python3"
  },
  "language_info": {
   "codemirror_mode": {
    "name": "ipython",
    "version": 3
   },
   "file_extension": ".py",
   "mimetype": "text/x-python",
   "name": "python",
   "nbconvert_exporter": "python",
   "pygments_lexer": "ipython3",
   "version": "3.5.2"
  }
 },
 "nbformat": 4,
 "nbformat_minor": 1
}
